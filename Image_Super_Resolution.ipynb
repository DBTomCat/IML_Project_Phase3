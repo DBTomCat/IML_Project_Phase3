{
 "cells": [
  {
   "attachments": {},
   "cell_type": "markdown",
   "metadata": {},
   "source": [
    "<div align=center>\n",
    "\t\t\n",
    "<p></p>\n",
    "<p></p>\n",
    "<font size=5>\n",
    "In the Name of God\n",
    "<font/>\n",
    "<p></p>\n",
    " <br/>\n",
    "    <br/>\n",
    "<font color=#4d7db8>\n",
    "Sharif University of Technology - Department of Electrical Engineering\n",
    "</font>\n",
    "<p></p>\n",
    "<font color=#4d7db8>\n",
    "Introduction To Machine Learning - Dr. Sajjad Amini\n",
    "</font>\n",
    "<br/>\n",
    "<br/>\n",
    "Spring Semester 1401-02\n",
    "\n",
    "<div/>\n",
    "\n",
    "<hr/>\n",
    "\t\t<div align=center>\n",
    "\t\t    <font color=red size=6>\n",
    "\t\t\t    <br />\n",
    "Project - 3rd Phase\n",
    "<br />\n",
    "Image Super Resolution using Autoencoder\n",
    "\t\t\t</font>\n",
    "    <br/>\n",
    "<font size=4>\n",
    "\t\t\t<br/><br/>\n",
    "Due on Tir 10th\n",
    "                <br/><b>\n",
    "              Cheating is Strongly Prohibited\n",
    "                </b><br/><br/>\n",
    "                <font color=green>\n",
    "Should you have any questions concerning the project, please feel free to ask via Telegram.\n",
    "     </font>\n",
    "</font>\n",
    "                <br/>\n",
    "    </div>"
   ]
  },
  {
   "attachments": {},
   "cell_type": "markdown",
   "metadata": {},
   "source": [
    "# Personal Info\n",
    "<hr/>\n",
    "    <div class=\"column\" align=center>\n",
    "    <font size=4>\n",
    "        <div class=\"column\">\n",
    "        <br />\n",
    "            student_number = Stu. No. 1\n",
    "            <br />\n",
    "            Name = ...   \n",
    "            <br />\n",
    "            Last_Name = ... \n",
    "        </div>\n",
    "        <div class=\"column\">\n",
    "        <br />\n",
    "            student_number = Stu. No. 2\n",
    "            <br />\n",
    "            Name = ...   \n",
    "            <br />\n",
    "            Last_Name = ... \n",
    "        </div>\n",
    "    </font>\n",
    "    </div>\n"
   ]
  },
  {
   "attachments": {},
   "cell_type": "markdown",
   "metadata": {},
   "source": [
    "1. Download the \"image super resolution (from unsplash)\" dataset and split it's validation set to new validation set and test set.\n",
    "2. Design and train an AutoEncoder using `PyTorch` (not `TensorFlow`) on the dataset to enhance the resolution of images from low resolution to high resolution.\n",
    "3. plot learning curve and visualize low resolution images of test set, their corresponding high resolution images and their reconstructed versions side by side."
   ]
  },
  {
   "attachments": {},
   "cell_type": "markdown",
   "metadata": {},
   "source": [
    "# Import Necessary Libraries"
   ]
  },
  {
   "cell_type": "code",
   "execution_count": null,
   "metadata": {},
   "outputs": [],
   "source": []
  },
  {
   "attachments": {},
   "cell_type": "markdown",
   "metadata": {},
   "source": [
    "# Load Dataset and Prepare It"
   ]
  },
  {
   "cell_type": "code",
   "execution_count": null,
   "metadata": {},
   "outputs": [],
   "source": []
  },
  {
   "cell_type": "code",
   "execution_count": null,
   "metadata": {},
   "outputs": [],
   "source": []
  },
  {
   "attachments": {},
   "cell_type": "markdown",
   "metadata": {},
   "source": [
    "# Define Your Model\n",
    "torch neural network model"
   ]
  },
  {
   "cell_type": "code",
   "execution_count": null,
   "metadata": {},
   "outputs": [],
   "source": []
  },
  {
   "attachments": {},
   "cell_type": "markdown",
   "metadata": {},
   "source": [
    "# Fit The Model\n",
    "Also Define optimizer, Criterion and other parameters "
   ]
  },
  {
   "cell_type": "code",
   "execution_count": null,
   "metadata": {},
   "outputs": [],
   "source": []
  },
  {
   "attachments": {},
   "cell_type": "markdown",
   "metadata": {},
   "source": [
    "# Plot The Results"
   ]
  },
  {
   "cell_type": "code",
   "execution_count": null,
   "metadata": {},
   "outputs": [],
   "source": []
  }
 ],
 "metadata": {
  "language_info": {
   "name": "python"
  },
  "orig_nbformat": 4
 },
 "nbformat": 4,
 "nbformat_minor": 2
}
